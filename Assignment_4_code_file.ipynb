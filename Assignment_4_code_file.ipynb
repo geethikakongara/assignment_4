{
  "cells": [
    {
      "cell_type": "markdown",
      "id": "8e649671-64ae-4692-a381-33974ffa666a",
      "metadata": {
        "id": "8e649671-64ae-4692-a381-33974ffa666a"
      },
      "source": [
        "# Assignment 4\n",
        "## Econ 8310 - Business Forecasting\n",
        "\n",
        "This assignment will make use of the bayesian statistical models covered in Lessons 10 to 12.\n",
        "\n",
        "A/B Testing is a critical concept in data science, and for many companies one of the most relevant applications of data-driven decision-making. In order to improve product offerings, marketing campaigns, user interfaces, and many other user-facing interactions, scientists and engineers create experiments to determine the efficacy of proposed changes. Users are then randomly assigned to either the treatment or control group, and their behavior is recorded.\n",
        "If the changes that the treatment group is exposed to can be measured to have a benefit in the metric of interest, then those changes are scaled up and rolled out to across all interactions.\n",
        "Below is a short video detailing the A/B Testing process, in case you want to learn a bit more:\n",
        "[https://youtu.be/DUNk4GPZ9bw](https://youtu.be/DUNk4GPZ9bw)\n",
        "\n",
        "For this assignment, you will use an A/B test data set, which was pulled from the Kaggle website (https://www.kaggle.com/datasets/yufengsui/mobile-games-ab-testing). I have added the data from the page into Codio for you. It can be found in the cookie_cats.csv file in the file tree. It can also be found at [https://github.com/dustywhite7/Econ8310/raw/master/AssignmentData/cookie_cats.csv](https://github.com/dustywhite7/Econ8310/raw/master/AssignmentData/cookie_cats.csv)\n",
        "\n",
        "The variables are defined as follows:\n",
        "\n",
        "| Variable Name  | Definition |\n",
        "|----------------|----|\n",
        "| userid         | A unique number that identifies each player  |\n",
        "| version        | Whether the player was put in the control group (gate_30 - a gate at level 30) or the group with the moved gate (gate_40 - a gate at level 40) |\n",
        "| sum_gamerounds | The number of game rounds played by the player during the first 14 days after install.  |\n",
        "| retention1     | Did the player come back and play 1 day after installing?     |\n",
        "| retention7     | Did the player come back and play 7 days after installing?    |               "
      ]
    },
    {
      "cell_type": "markdown",
      "id": "a7d4d9ba-5349-4ae6-833b-8cea780510d2",
      "metadata": {
        "id": "a7d4d9ba-5349-4ae6-833b-8cea780510d2"
      },
      "source": [
        "### The questions\n",
        "\n",
        "You will be asked to answer the following questions in a small quiz on Canvas:\n",
        "1. What was the effect of moving the gate from level 30 to level 40 on 1-day retention rates?\n",
        "2. What was the effect of moving the gate from level 30 to level 40 on 7-day retention rates?\n",
        "3. What was the biggest challenge for you in completing this assignment?\n",
        "\n",
        "You will also be asked to submit a URL to your forked GitHub repository containing your code used to answer these questions."
      ]
    },
    {
      "cell_type": "code",
      "source": [
        "import pandas as pd\n",
        "import pymc as pm\n",
        "import numpy as np\n",
        "import matplotlib.pyplot as plt\n",
        "import arviz as az\n",
        "\n",
        "def fetch_data(file_path):\n",
        "    \"\"\"Fetches the dataset from the given file path.\"\"\"\n",
        "    return pd.read_csv(file_path)\n",
        "\n",
        "def display_data_overview(data):\n",
        "    \"\"\"Displays a summary of the dataset.\"\"\"\n",
        "    print(\"Dataset Details:\")\n",
        "    print(\"=\" * 50)\n",
        "    print(f\"Total number of entries in the data: {len(data)}\")\n",
        "    print(f\"Breakdown of versions in the data:\\n{data['version'].value_counts()}\")\n",
        "    retention_summary = data.groupby('version')[['retention_1', 'retention_7']].mean()\n",
        "    print(\"\\nRetention averages by version:\")\n",
        "    print(retention_summary)\n",
        "\n",
        "def run_bayesian_model(gate_30_retention, gate_40_retention, retention_type):\n",
        "    \"\"\"Performs Bayesian analysis using a Beta-Bernoulli model.\"\"\"\n",
        "    with pm.Model() as model:\n",
        "        p_30 = pm.Beta(f'p_30_{retention_type}', alpha=1, beta=1)\n",
        "        p_40 = pm.Beta(f'p_40_{retention_type}', alpha=1, beta=1)\n",
        "\n",
        "        pm.Bernoulli(f'obs_30_{retention_type}', p=p_30, observed=gate_30_retention)\n",
        "        pm.Bernoulli(f'obs_40_{retention_type}', p=p_40, observed=gate_40_retention)\n",
        "\n",
        "        difference = pm.Deterministic(f'difference_{retention_type}', p_30 - p_40)\n",
        "\n",
        "        trace = pm.sample(1000, tune=1000, chains=2, random_seed=42)\n",
        "\n",
        "    return trace, difference\n",
        "\n",
        "def analyze_retention(data, retention_types):\n",
        "    \"\"\"Analyzes retention data using Bayesian methods.\"\"\"\n",
        "    traces = {}\n",
        "\n",
        "    for retention_type in retention_types:\n",
        "        gate_30_retention = data[data['version'] == 'gate_30'][retention_type]\n",
        "        gate_40_retention = data[data['version'] == 'gate_40'][retention_type]\n",
        "\n",
        "        trace, difference = run_bayesian_model(gate_30_retention, gate_40_retention, retention_type)\n",
        "        traces[retention_type] = (trace, difference)\n",
        "\n",
        "    return traces\n",
        "\n",
        "def plot_results(traces, retention_types):\n",
        "    \"\"\"Plots posterior distributions and differences for each retention type.\"\"\"\n",
        "    for retention_type in retention_types:\n",
        "        trace, difference = traces[retention_type]\n",
        "\n",
        "        # Extract samples from the trace directly\n",
        "        p_30_samples = trace.posterior[f'p_30_{retention_type}'].values.flatten()\n",
        "        p_40_samples = trace.posterior[f'p_40_{retention_type}'].values.flatten()\n",
        "\n",
        "        # Access the difference sample using the trace's posterior\n",
        "        difference_samples = trace.posterior[f'difference_{retention_type}'].values.flatten()\n",
        "\n",
        "        # Plot the posterior distribution for Gate 30 and Gate 40\n",
        "        plt.figure(figsize=(12, 4))\n",
        "        plt.hist(p_30_samples, bins=30, alpha=0.6, label='Gate 30')\n",
        "        plt.hist(p_40_samples, bins=30, alpha=0.6, label='Gate 40')\n",
        "        plt.title(f'Posterior Distribution of {retention_type.capitalize()} Retention Probabilities')\n",
        "        plt.legend()\n",
        "        plt.show()\n",
        "\n",
        "        # Plot the difference distribution\n",
        "        plt.figure(figsize=(12, 4))\n",
        "        plt.hist(difference_samples, bins=30, alpha=0.7, label='Difference', color='orange')\n",
        "        plt.axvline(0, color='red', linestyle='--', label='No Effect')\n",
        "        plt.title(f'Variation in {retention_type.capitalize()} Retention Probabilities')\n",
        "        plt.legend()\n",
        "        plt.show()\n",
        "\n",
        "        print(f\"\\nOverview of {retention_type.capitalize()} Retention Analysis:\")\n",
        "        print(\"=\" * 50)\n",
        "        print(az.summary(trace, var_names=[f'p_30_{retention_type}', f'p_40_{retention_type}', f'difference_{retention_type}'], hdi_prob=0.95))\n",
        "\n",
        "        prob_superior = np.mean(difference_samples > 0)\n",
        "        print(f\"Chance that Gate 30 exceeds Gate 40: {prob_superior:.2%}\")\n",
        "\n",
        "def main(file_path):\n",
        "    data = fetch_data(file_path)\n",
        "    display_data_overview(data)\n",
        "    retention_types = ['retention_1', 'retention_7']\n",
        "    traces = analyze_retention(data, retention_types)\n",
        "    plot_results(traces, retention_types)\n",
        "\n",
        "if __name__ == \"__main__\":\n",
        "    file_path = \"https://raw.githubusercontent.com/dustywhite7/Econ8310/master/AssignmentData/cookie_cats.csv\"\n",
        "    main(file_path)\n"
      ],
      "metadata": {
        "colab": {
          "base_uri": "https://localhost:8080/",
          "height": 1000,
          "referenced_widgets": [
            "510588d73f084a9295e3b5a1a9510fbb",
            "3e3b10f6c02740f98d9a4f8459b69c37",
            "d54c43bd4d5f4b2ba71a20cac62b06b9",
            "283df721b96943ada6bb0b08fa86ac1a",
            "fbc3030b61694c4993bf68c1d4d7d532",
            "51658291190f4799bc2e4c9c4c5cf35a",
            "222434e1441b49a6a0e276805b8ad9dd",
            "17c322ecdedf4770977c654add80892e"
          ]
        },
        "id": "QahqiiasW_b5",
        "outputId": "31b3f6ea-d1a6-4ea5-ea37-f3b4a63f55dc"
      },
      "id": "QahqiiasW_b5",
      "execution_count": 4,
      "outputs": [
        {
          "output_type": "stream",
          "name": "stdout",
          "text": [
            "Dataset Details:\n",
            "==================================================\n",
            "Total number of entries in the data: 90189\n",
            "Breakdown of versions in the data:\n",
            "version\n",
            "gate_40    45489\n",
            "gate_30    44700\n",
            "Name: count, dtype: int64\n",
            "\n",
            "Retention averages by version:\n",
            "         retention_1  retention_7\n",
            "version                          \n",
            "gate_30     0.448188     0.190201\n",
            "gate_40     0.442283     0.182000\n"
          ]
        },
        {
          "output_type": "display_data",
          "data": {
            "text/plain": [
              "Output()"
            ],
            "application/vnd.jupyter.widget-view+json": {
              "version_major": 2,
              "version_minor": 0,
              "model_id": "510588d73f084a9295e3b5a1a9510fbb"
            }
          },
          "metadata": {}
        },
        {
          "output_type": "display_data",
          "data": {
            "text/plain": [],
            "text/html": [
              "<pre style=\"white-space:pre;overflow-x:auto;line-height:normal;font-family:Menlo,'DejaVu Sans Mono',consolas,'Courier New',monospace\"></pre>\n"
            ]
          },
          "metadata": {}
        },
        {
          "output_type": "display_data",
          "data": {
            "text/plain": [
              "Output()"
            ],
            "application/vnd.jupyter.widget-view+json": {
              "version_major": 2,
              "version_minor": 0,
              "model_id": "d54c43bd4d5f4b2ba71a20cac62b06b9"
            }
          },
          "metadata": {}
        },
        {
          "output_type": "display_data",
          "data": {
            "text/plain": [],
            "text/html": [
              "<pre style=\"white-space:pre;overflow-x:auto;line-height:normal;font-family:Menlo,'DejaVu Sans Mono',consolas,'Courier New',monospace\"></pre>\n"
            ]
          },
          "metadata": {}
        },
        {
          "output_type": "display_data",
          "data": {
            "text/plain": [
              "Output()"
            ],
            "application/vnd.jupyter.widget-view+json": {
              "version_major": 2,
              "version_minor": 0,
              "model_id": "fbc3030b61694c4993bf68c1d4d7d532"
            }
          },
          "metadata": {}
        },
        {
          "output_type": "display_data",
          "data": {
            "text/plain": [],
            "text/html": [
              "<pre style=\"white-space:pre;overflow-x:auto;line-height:normal;font-family:Menlo,'DejaVu Sans Mono',consolas,'Courier New',monospace\"></pre>\n"
            ]
          },
          "metadata": {}
        },
        {
          "output_type": "display_data",
          "data": {
            "text/plain": [
              "Output()"
            ],
            "application/vnd.jupyter.widget-view+json": {
              "version_major": 2,
              "version_minor": 0,
              "model_id": "222434e1441b49a6a0e276805b8ad9dd"
            }
          },
          "metadata": {}
        },
        {
          "output_type": "display_data",
          "data": {
            "text/plain": [],
            "text/html": [
              "<pre style=\"white-space:pre;overflow-x:auto;line-height:normal;font-family:Menlo,'DejaVu Sans Mono',consolas,'Courier New',monospace\"></pre>\n"
            ]
          },
          "metadata": {}
        },
        {
          "output_type": "display_data",
          "data": {
            "text/plain": [
              "<Figure size 1200x400 with 1 Axes>"
            ],
            "image/png": "[encoded data removed]"
          },
          "metadata": {}
        },
        {
          "output_type": "display_data",
          "data": {
            "text/plain": [
              "<Figure size 1200x400 with 1 Axes>"
            ],
            "image/png": "[encoded data removed]"
          },
          "metadata": {}
        },
        {
          "output_type": "stream",
          "name": "stdout",
          "text": [
            "\n",
            "Overview of Retention_1 Retention Analysis:\n",
            "==================================================\n",
            "                         mean     sd  hdi_2.5%  hdi_97.5%  mcse_mean  mcse_sd  \\\n",
            "p_30_retention_1        0.448  0.002     0.444      0.453        0.0      0.0   \n",
            "p_40_retention_1        0.442  0.002     0.437      0.447        0.0      0.0   \n",
            "difference_retention_1  0.006  0.003    -0.001      0.013        0.0      0.0   \n",
            "\n",
            "                        ess_bulk  ess_tail  r_hat  \n",
            "p_30_retention_1          1822.0    1254.0    1.0  \n",
            "p_40_retention_1          1748.0    1315.0    1.0  \n",
            "difference_retention_1    1786.0    1271.0    1.0  \n",
            "Chance that Gate 30 exceeds Gate 40: 95.50%\n"
          ]
        },
        {
          "output_type": "display_data",
          "data": {
            "text/plain": [
              "<Figure size 1200x400 with 1 Axes>"
            ],
            "image/png": "[encoded data removed]"
          },
          "metadata": {}
        },
        {
          "output_type": "display_data",
          "data": {
            "text/plain": [
              "<Figure size 1200x400 with 1 Axes>"
            ],
            "image/png": "[encoded data removed]"
          },
          "metadata": {}
        },
        {
          "output_type": "stream",
          "name": "stdout",
          "text": [
            "\n",
            "Overview of Retention_7 Retention Analysis:\n",
            "==================================================\n",
            "                         mean     sd  hdi_2.5%  hdi_97.5%  mcse_mean  mcse_sd  \\\n",
            "p_30_retention_7        0.190  0.002     0.187      0.194        0.0      0.0   \n",
            "p_40_retention_7        0.182  0.002     0.179      0.186        0.0      0.0   \n",
            "difference_retention_7  0.008  0.003     0.004      0.014        0.0      0.0   \n",
            "\n",
            "                        ess_bulk  ess_tail  r_hat  \n",
            "p_30_retention_7          1870.0    1522.0    1.0  \n",
            "p_40_retention_7          2061.0    1545.0    1.0  \n",
            "difference_retention_7    1957.0    1327.0    1.0  \n",
            "Chance that Gate 30 exceeds Gate 40: 99.85%\n"
          ]
        }
      ]
    }
  ],
  "metadata": {
    "kernelspec": {
      "display_name": "Python 3 (ipykernel)",
      "language": "python",
      "name": "python3"
    },
    "language_info": {
      "codemirror_mode": {
        "name": "ipython",
        "version": 3
      },
      "file_extension": ".py",
      "mimetype": "text/x-python",
      "name": "python",
      "nbconvert_exporter": "python",
      "pygments_lexer": "ipython3",
      "version": "3.9.13"
    },
    "colab": {
      "provenance": []
    },
    "widgets": {
      "application/vnd.jupyter.widget-state+json": {
        "510588d73f084a9295e3b5a1a9510fbb": {
          "model_module": "@jupyter-widgets/output",
          "model_name": "OutputModel",
          "model_module_version": "1.0.0",
          "state": {
            "_dom_classes": [],
            "_model_module": "@jupyter-widgets/output",
            "_model_module_version": "1.0.0",
            "_model_name": "OutputModel",
            "_view_count": null,
            "_view_module": "@jupyter-widgets/output",
            "_view_module_version": "1.0.0",
            "_view_name": "OutputView",
            "layout": "IPY_MODEL_3e3b10f6c02740f98d9a4f8459b69c37",
            "msg_id": "",
            "outputs": [
              {
                "output_type": "display_data",
                "data": {
                  "text/plain": "Sampling chain 0, 0 divergences \u001b[32m━━━━━━━━━━━━━━━━━━━━━━━━━━━━━━━━━━━━━━━━\u001b[0m \u001b[35m100%\u001b[0m \u001b[36m0:00:00\u001b[0m / \u001b[33m0:00:11\u001b[0m\n",
                  "text/html": "<pre style=\"white-space:pre;overflow-x:auto;line-height:normal;font-family:Menlo,'DejaVu Sans Mono',consolas,'Courier New',monospace\">Sampling chain 0, 0 divergences <span style=\"color: #008000; text-decoration-color: #008000\">━━━━━━━━━━━━━━━━━━━━━━━━━━━━━━━━━━━━━━━━</span> <span style=\"color: #800080; text-decoration-color: #800080\">100%</span> <span style=\"color: #008080; text-decoration-color: #008080\">0:00:00</span> / <span style=\"color: #808000; text-decoration-color: #808000\">0:00:11</span>\n</pre>\n"
                },
                "metadata": {}
              }
            ]
          }
        },
        "3e3b10f6c02740f98d9a4f8459b69c37": {
          "model_module": "@jupyter-widgets/base",
          "model_name": "LayoutModel",
          "model_module_version": "1.2.0",
          "state": {
            "_model_module": "@jupyter-widgets/base",
            "_model_module_version": "1.2.0",
            "_model_name": "LayoutModel",
            "_view_count": null,
            "_view_module": "@jupyter-widgets/base",
            "_view_module_version": "1.2.0",
            "_view_name": "LayoutView",
            "align_content": null,
            "align_items": null,
            "align_self": null,
            "border": null,
            "bottom": null,
            "display": null,
            "flex": null,
            "flex_flow": null,
            "grid_area": null,
            "grid_auto_columns": null,
            "grid_auto_flow": null,
            "grid_auto_rows": null,
            "grid_column": null,
            "grid_gap": null,
            "grid_row": null,
            "grid_template_areas": null,
            "grid_template_columns": null,
            "grid_template_rows": null,
            "height": null,
            "justify_content": null,
            "justify_items": null,
            "left": null,
            "margin": null,
            "max_height": null,
            "max_width": null,
            "min_height": null,
            "min_width": null,
            "object_fit": null,
            "object_position": null,
            "order": null,
            "overflow": null,
            "overflow_x": null,
            "overflow_y": null,
            "padding": null,
            "right": null,
            "top": null,
            "visibility": null,
            "width": null
          }
        },
        "d54c43bd4d5f4b2ba71a20cac62b06b9": {
          "model_module": "@jupyter-widgets/output",
          "model_name": "OutputModel",
          "model_module_version": "1.0.0",
          "state": {
            "_dom_classes": [],
            "_model_module": "@jupyter-widgets/output",
            "_model_module_version": "1.0.0",
            "_model_name": "OutputModel",
            "_view_count": null,
            "_view_module": "@jupyter-widgets/output",
            "_view_module_version": "1.0.0",
            "_view_name": "OutputView",
            "layout": "IPY_MODEL_283df721b96943ada6bb0b08fa86ac1a",
            "msg_id": "",
            "outputs": [
              {
                "output_type": "display_data",
                "data": {
                  "text/plain": "Sampling chain 1, 0 divergences \u001b[32m━━━━━━━━━━━━━━━━━━━━━━━━━━━━━━━━━━━━━━━━\u001b[0m \u001b[35m100%\u001b[0m \u001b[36m0:00:00\u001b[0m / \u001b[33m0:00:11\u001b[0m\n",
                  "text/html": "<pre style=\"white-space:pre;overflow-x:auto;line-height:normal;font-family:Menlo,'DejaVu Sans Mono',consolas,'Courier New',monospace\">Sampling chain 1, 0 divergences <span style=\"color: #008000; text-decoration-color: #008000\">━━━━━━━━━━━━━━━━━━━━━━━━━━━━━━━━━━━━━━━━</span> <span style=\"color: #800080; text-decoration-color: #800080\">100%</span> <span style=\"color: #008080; text-decoration-color: #008080\">0:00:00</span> / <span style=\"color: #808000; text-decoration-color: #808000\">0:00:11</span>\n</pre>\n"
                },
                "metadata": {}
              }
            ]
          }
        },
        "283df721b96943ada6bb0b08fa86ac1a": {
          "model_module": "@jupyter-widgets/base",
          "model_name": "LayoutModel",
          "model_module_version": "1.2.0",
          "state": {
            "_model_module": "@jupyter-widgets/base",
            "_model_module_version": "1.2.0",
            "_model_name": "LayoutModel",
            "_view_count": null,
            "_view_module": "@jupyter-widgets/base",
            "_view_module_version": "1.2.0",
            "_view_name": "LayoutView",
            "align_content": null,
            "align_items": null,
            "align_self": null,
            "border": null,
            "bottom": null,
            "display": null,
            "flex": null,
            "flex_flow": null,
            "grid_area": null,
            "grid_auto_columns": null,
            "grid_auto_flow": null,
            "grid_auto_rows": null,
            "grid_column": null,
            "grid_gap": null,
            "grid_row": null,
            "grid_template_areas": null,
            "grid_template_columns": null,
            "grid_template_rows": null,
            "height": null,
            "justify_content": null,
            "justify_items": null,
            "left": null,
            "margin": null,
            "max_height": null,
            "max_width": null,
            "min_height": null,
            "min_width": null,
            "object_fit": null,
            "object_position": null,
            "order": null,
            "overflow": null,
            "overflow_x": null,
            "overflow_y": null,
            "padding": null,
            "right": null,
            "top": null,
            "visibility": null,
            "width": null
          }
        },
        "fbc3030b61694c4993bf68c1d4d7d532": {
          "model_module": "@jupyter-widgets/output",
          "model_name": "OutputModel",
          "model_module_version": "1.0.0",
          "state": {
            "_dom_classes": [],
            "_model_module": "@jupyter-widgets/output",
            "_model_module_version": "1.0.0",
            "_model_name": "OutputModel",
            "_view_count": null,
            "_view_module": "@jupyter-widgets/output",
            "_view_module_version": "1.0.0",
            "_view_name": "OutputView",
            "layout": "IPY_MODEL_51658291190f4799bc2e4c9c4c5cf35a",
            "msg_id": "",
            "outputs": [
              {
                "output_type": "display_data",
                "data": {
                  "text/plain": "Sampling chain 0, 0 divergences \u001b[32m━━━━━━━━━━━━━━━━━━━━━━━━━━━━━━━━━━━━━━━━\u001b[0m \u001b[35m100%\u001b[0m \u001b[36m0:00:00\u001b[0m / \u001b[33m0:00:08\u001b[0m\n",
                  "text/html": "<pre style=\"white-space:pre;overflow-x:auto;line-height:normal;font-family:Menlo,'DejaVu Sans Mono',consolas,'Courier New',monospace\">Sampling chain 0, 0 divergences <span style=\"color: #008000; text-decoration-color: #008000\">━━━━━━━━━━━━━━━━━━━━━━━━━━━━━━━━━━━━━━━━</span> <span style=\"color: #800080; text-decoration-color: #800080\">100%</span> <span style=\"color: #008080; text-decoration-color: #008080\">0:00:00</span> / <span style=\"color: #808000; text-decoration-color: #808000\">0:00:08</span>\n</pre>\n"
                },
                "metadata": {}
              }
            ]
          }
        },
        "51658291190f4799bc2e4c9c4c5cf35a": {
          "model_module": "@jupyter-widgets/base",
          "model_name": "LayoutModel",
          "model_module_version": "1.2.0",
          "state": {
            "_model_module": "@jupyter-widgets/base",
            "_model_module_version": "1.2.0",
            "_model_name": "LayoutModel",
            "_view_count": null,
            "_view_module": "@jupyter-widgets/base",
            "_view_module_version": "1.2.0",
            "_view_name": "LayoutView",
            "align_content": null,
            "align_items": null,
            "align_self": null,
            "border": null,
            "bottom": null,
            "display": null,
            "flex": null,
            "flex_flow": null,
            "grid_area": null,
            "grid_auto_columns": null,
            "grid_auto_flow": null,
            "grid_auto_rows": null,
            "grid_column": null,
            "grid_gap": null,
            "grid_row": null,
            "grid_template_areas": null,
            "grid_template_columns": null,
            "grid_template_rows": null,
            "height": null,
            "justify_content": null,
            "justify_items": null,
            "left": null,
            "margin": null,
            "max_height": null,
            "max_width": null,
            "min_height": null,
            "min_width": null,
            "object_fit": null,
            "object_position": null,
            "order": null,
            "overflow": null,
            "overflow_x": null,
            "overflow_y": null,
            "padding": null,
            "right": null,
            "top": null,
            "visibility": null,
            "width": null
          }
        },
        "222434e1441b49a6a0e276805b8ad9dd": {
          "model_module": "@jupyter-widgets/output",
          "model_name": "OutputModel",
          "model_module_version": "1.0.0",
          "state": {
            "_dom_classes": [],
            "_model_module": "@jupyter-widgets/output",
            "_model_module_version": "1.0.0",
            "_model_name": "OutputModel",
            "_view_count": null,
            "_view_module": "@jupyter-widgets/output",
            "_view_module_version": "1.0.0",
            "_view_name": "OutputView",
            "layout": "IPY_MODEL_17c322ecdedf4770977c654add80892e",
            "msg_id": "",
            "outputs": [
              {
                "output_type": "display_data",
                "data": {
                  "text/plain": "Sampling chain 1, 0 divergences \u001b[32m━━━━━━━━━━━━━━━━━━━━━━━━━━━━━━━━━━━━━━━━\u001b[0m \u001b[35m100%\u001b[0m \u001b[36m0:00:00\u001b[0m / \u001b[33m0:00:08\u001b[0m\n",
                  "text/html": "<pre style=\"white-space:pre;overflow-x:auto;line-height:normal;font-family:Menlo,'DejaVu Sans Mono',consolas,'Courier New',monospace\">Sampling chain 1, 0 divergences <span style=\"color: #008000; text-decoration-color: #008000\">━━━━━━━━━━━━━━━━━━━━━━━━━━━━━━━━━━━━━━━━</span> <span style=\"color: #800080; text-decoration-color: #800080\">100%</span> <span style=\"color: #008080; text-decoration-color: #008080\">0:00:00</span> / <span style=\"color: #808000; text-decoration-color: #808000\">0:00:08</span>\n</pre>\n"
                },
                "metadata": {}
              }
            ]
          }
        },
        "17c322ecdedf4770977c654add80892e": {
          "model_module": "@jupyter-widgets/base",
          "model_name": "LayoutModel",
          "model_module_version": "1.2.0",
          "state": {
            "_model_module": "@jupyter-widgets/base",
            "_model_module_version": "1.2.0",
            "_model_name": "LayoutModel",
            "_view_count": null,
            "_view_module": "@jupyter-widgets/base",
            "_view_module_version": "1.2.0",
            "_view_name": "LayoutView",
            "align_content": null,
            "align_items": null,
            "align_self": null,
            "border": null,
            "bottom": null,
            "display": null,
            "flex": null,
            "flex_flow": null,
            "grid_area": null,
            "grid_auto_columns": null,
            "grid_auto_flow": null,
            "grid_auto_rows": null,
            "grid_column": null,
            "grid_gap": null,
            "grid_row": null,
            "grid_template_areas": null,
            "grid_template_columns": null,
            "grid_template_rows": null,
            "height": null,
            "justify_content": null,
            "justify_items": null,
            "left": null,
            "margin": null,
            "max_height": null,
            "max_width": null,
            "min_height": null,
            "min_width": null,
            "object_fit": null,
            "object_position": null,
            "order": null,
            "overflow": null,
            "overflow_x": null,
            "overflow_y": null,
            "padding": null,
            "right": null,
            "top": null,
            "visibility": null,
            "width": null
          }
        }
      }
    }
  },
  "nbformat": 4,
  "nbformat_minor": 5
}